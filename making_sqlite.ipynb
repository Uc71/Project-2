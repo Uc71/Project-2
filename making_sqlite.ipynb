{
 "cells": [
  {
   "cell_type": "code",
   "execution_count": 1,
   "metadata": {},
   "outputs": [
    {
     "name": "stdout",
     "output_type": "stream",
     "text": [
      "Requirement already satisfied: psycopg2 in c:\\users\\ksaville\\anaconda3\\lib\\site-packages (2.8.6)\n"
     ]
    }
   ],
   "source": [
    "import pandas as pd\n",
    "import numpy as np\n",
    "from sqlalchemy import create_engine\n",
    "!pip install psycopg2"
   ]
  },
  {
   "cell_type": "code",
   "execution_count": 2,
   "metadata": {},
   "outputs": [],
   "source": [
    "#store crime json data into DataFram\n",
    "\n",
    "crimes_df = pd.read_json(\"data/cpd-incidents.json\")\n",
    "\n",
    "#crimes_df.head()"
   ]
  },
  {
   "cell_type": "code",
   "execution_count": 3,
   "metadata": {},
   "outputs": [],
   "source": [
    "\n",
    "crimes_df = crimes_df[[\"id\",\"year\",\"crimeday\", \"crime_type\", \"lat\", \"lon\"]]\n",
    "#crimes_df.head()"
   ]
  },
  {
   "cell_type": "code",
   "execution_count": 4,
   "metadata": {},
   "outputs": [
    {
     "data": {
      "text/html": [
       "<div>\n",
       "<style scoped>\n",
       "    .dataframe tbody tr th:only-of-type {\n",
       "        vertical-align: middle;\n",
       "    }\n",
       "\n",
       "    .dataframe tbody tr th {\n",
       "        vertical-align: top;\n",
       "    }\n",
       "\n",
       "    .dataframe thead th {\n",
       "        text-align: right;\n",
       "    }\n",
       "</style>\n",
       "<table border=\"1\" class=\"dataframe\">\n",
       "  <thead>\n",
       "    <tr style=\"text-align: right;\">\n",
       "      <th></th>\n",
       "      <th>id</th>\n",
       "      <th>year</th>\n",
       "      <th>crimeday</th>\n",
       "      <th>crime_type</th>\n",
       "      <th>lat</th>\n",
       "      <th>lon</th>\n",
       "    </tr>\n",
       "  </thead>\n",
       "  <tbody>\n",
       "    <tr>\n",
       "      <th>0</th>\n",
       "      <td>7005486</td>\n",
       "      <td>2007</td>\n",
       "      <td>FRIDAY</td>\n",
       "      <td>SIMPLE PHYSICAL ASSAULT</td>\n",
       "      <td>35.786132</td>\n",
       "      <td>-78.773909</td>\n",
       "    </tr>\n",
       "    <tr>\n",
       "      <th>1</th>\n",
       "      <td>8006568</td>\n",
       "      <td>2008</td>\n",
       "      <td>FRIDAY</td>\n",
       "      <td>SIMPLE PHYSICAL ASSAULT</td>\n",
       "      <td>35.786829</td>\n",
       "      <td>-78.779065</td>\n",
       "    </tr>\n",
       "    <tr>\n",
       "      <th>2</th>\n",
       "      <td>8006859</td>\n",
       "      <td>2008</td>\n",
       "      <td>SUNDAY</td>\n",
       "      <td>SIMPLE PHYSICAL ASSAULT</td>\n",
       "      <td>35.786907</td>\n",
       "      <td>-78.777110</td>\n",
       "    </tr>\n",
       "    <tr>\n",
       "      <th>3</th>\n",
       "      <td>10002912</td>\n",
       "      <td>2010</td>\n",
       "      <td>THURSDAY</td>\n",
       "      <td>SIMPLE PHYSICAL ASSAULT</td>\n",
       "      <td>35.787349</td>\n",
       "      <td>-78.769781</td>\n",
       "    </tr>\n",
       "    <tr>\n",
       "      <th>4</th>\n",
       "      <td>10004137</td>\n",
       "      <td>2010</td>\n",
       "      <td>FRIDAY</td>\n",
       "      <td>SIMPLE PHYSICAL ASSAULT</td>\n",
       "      <td>35.786851</td>\n",
       "      <td>-78.776334</td>\n",
       "    </tr>\n",
       "  </tbody>\n",
       "</table>\n",
       "</div>"
      ],
      "text/plain": [
       "         id  year  crimeday               crime_type        lat        lon\n",
       "0   7005486  2007    FRIDAY  SIMPLE PHYSICAL ASSAULT  35.786132 -78.773909\n",
       "1   8006568  2008    FRIDAY  SIMPLE PHYSICAL ASSAULT  35.786829 -78.779065\n",
       "2   8006859  2008    SUNDAY  SIMPLE PHYSICAL ASSAULT  35.786907 -78.777110\n",
       "3  10002912  2010  THURSDAY  SIMPLE PHYSICAL ASSAULT  35.787349 -78.769781\n",
       "4  10004137  2010    FRIDAY  SIMPLE PHYSICAL ASSAULT  35.786851 -78.776334"
      ]
     },
     "execution_count": 4,
     "metadata": {},
     "output_type": "execute_result"
    }
   ],
   "source": [
    "#drop na values \n",
    "crimes_df = crimes_df.dropna()\n",
    "#crime_df.info()\n",
    "#convert year from float to int.\n",
    "crimes_df['year'] = crimes_df['year'].apply(np.int64)\n",
    "#crimes_df.info()\n",
    "crimes_df.head()"
   ]
  },
  {
   "cell_type": "code",
   "execution_count": 5,
   "metadata": {},
   "outputs": [],
   "source": [
    "import sqlite3 as sql\n",
    "import pandas as pd\n",
    "import matplotlib.pyplot as plt\n",
    "\n",
    "from sqlalchemy import create_engine"
   ]
  },
  {
   "cell_type": "code",
   "execution_count": 6,
   "metadata": {},
   "outputs": [
    {
     "name": "stdout",
     "output_type": "stream",
     "text": [
      "2021-04-06 20:58:59,553 INFO sqlalchemy.engine.base.Engine SELECT CAST('test plain returns' AS VARCHAR(60)) AS anon_1\n",
      "2021-04-06 20:58:59,556 INFO sqlalchemy.engine.base.Engine ()\n",
      "2021-04-06 20:58:59,557 INFO sqlalchemy.engine.base.Engine SELECT CAST('test unicode returns' AS VARCHAR(60)) AS anon_1\n",
      "2021-04-06 20:58:59,559 INFO sqlalchemy.engine.base.Engine ()\n"
     ]
    }
   ],
   "source": [
    "engine = create_engine('sqlite:///crime_reports.sqlite', echo=True)\n",
    "sqlite_connection = engine.connect()"
   ]
  },
  {
   "cell_type": "code",
   "execution_count": 7,
   "metadata": {},
   "outputs": [
    {
     "name": "stdout",
     "output_type": "stream",
     "text": [
      "2021-04-06 20:58:59,630 INFO sqlalchemy.engine.base.Engine PRAGMA main.table_info(\"crimes_SQLDB\")\n",
      "2021-04-06 20:58:59,631 INFO sqlalchemy.engine.base.Engine ()\n",
      "2021-04-06 20:58:59,632 INFO sqlalchemy.engine.base.Engine PRAGMA temp.table_info(\"crimes_SQLDB\")\n",
      "2021-04-06 20:58:59,633 INFO sqlalchemy.engine.base.Engine ()\n",
      "2021-04-06 20:58:59,636 INFO sqlalchemy.engine.base.Engine \n",
      "CREATE TABLE \"crimes_SQLDB\" (\n",
      "\t\"index\" BIGINT, \n",
      "\tid BIGINT, \n",
      "\tyear BIGINT, \n",
      "\tcrimeday TEXT, \n",
      "\tcrime_type TEXT, \n",
      "\tlat FLOAT, \n",
      "\tlon FLOAT\n",
      ")\n",
      "\n",
      "\n",
      "2021-04-06 20:58:59,637 INFO sqlalchemy.engine.base.Engine ()\n",
      "2021-04-06 20:58:59,650 INFO sqlalchemy.engine.base.Engine COMMIT\n",
      "2021-04-06 20:58:59,653 INFO sqlalchemy.engine.base.Engine CREATE INDEX \"ix_crimes_SQLDB_index\" ON \"crimes_SQLDB\" (\"index\")\n",
      "2021-04-06 20:58:59,654 INFO sqlalchemy.engine.base.Engine ()\n",
      "2021-04-06 20:58:59,670 INFO sqlalchemy.engine.base.Engine COMMIT\n",
      "2021-04-06 20:58:59,718 INFO sqlalchemy.engine.base.Engine BEGIN (implicit)\n",
      "2021-04-06 20:59:00,326 INFO sqlalchemy.engine.base.Engine INSERT INTO \"crimes_SQLDB\" (\"index\", id, year, crimeday, crime_type, lat, lon) VALUES (?, ?, ?, ?, ?, ?, ?)\n",
      "2021-04-06 20:59:00,327 INFO sqlalchemy.engine.base.Engine ((0, 7005486, 2007, 'FRIDAY', 'SIMPLE PHYSICAL ASSAULT', 35.786131949, -78.77390894), (1, 8006568, 2008, 'FRIDAY', 'SIMPLE PHYSICAL ASSAULT', 35.786828592, -78.77906539), (2, 8006859, 2008, 'SUNDAY', 'SIMPLE PHYSICAL ASSAULT', 35.786907256, -78.77710955), (3, 10002912, 2010, 'THURSDAY', 'SIMPLE PHYSICAL ASSAULT', 35.7873485, -78.76978144), (4, 10004137, 2010, 'FRIDAY', 'SIMPLE PHYSICAL ASSAULT', 35.786850889, -78.7763342), (5, 10005184, 2010, 'SUNDAY', 'SIMPLE PHYSICAL ASSAULT', 35.787586804, -78.77343242), (6, 1000214, 2001, 'SATURDAY', 'SIMPLE PHYSICAL ASSAULT', 35.773850825, -78.75931174), (7, 1000755, 2001, 'THURSDAY', 'SIMPLE PHYSICAL ASSAULT', 35.776361339, -78.76466468)  ... displaying 10 of 96759 total bound parameter sets ...  (102831, 12008053, 2012, 'THURSDAY', 'LARCENY - FROM MOTOR VEHICLE', 35.795269192, -78.835559), (102832, 17001479, 2017, 'SATURDAY', 'LARCENY - FROM MOTOR VEHICLE', 35.792853965, -78.8372162))\n",
      "2021-04-06 20:59:00,739 INFO sqlalchemy.engine.base.Engine COMMIT\n",
      "2021-04-06 20:59:01,094 INFO sqlalchemy.engine.base.Engine SELECT name FROM sqlite_master WHERE type='table' ORDER BY name\n",
      "2021-04-06 20:59:01,095 INFO sqlalchemy.engine.base.Engine ()\n"
     ]
    }
   ],
   "source": [
    "\n",
    "crimes_df.to_sql(\"crimes_SQLDB\", sqlite_connection, if_exists='fail')"
   ]
  },
  {
   "cell_type": "code",
   "execution_count": 8,
   "metadata": {},
   "outputs": [],
   "source": [
    "#sqlite_connection.close()"
   ]
  },
  {
   "cell_type": "code",
   "execution_count": null,
   "metadata": {},
   "outputs": [],
   "source": []
  }
 ],
 "metadata": {
  "kernelspec": {
   "display_name": "Python 3",
   "language": "python",
   "name": "python3"
  },
  "language_info": {
   "codemirror_mode": {
    "name": "ipython",
    "version": 3
   },
   "file_extension": ".py",
   "mimetype": "text/x-python",
   "name": "python",
   "nbconvert_exporter": "python",
   "pygments_lexer": "ipython3",
   "version": "3.8.3"
  }
 },
 "nbformat": 4,
 "nbformat_minor": 4
}

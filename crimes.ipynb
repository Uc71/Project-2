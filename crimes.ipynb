{
 "cells": [
  {
   "cell_type": "code",
   "execution_count": 1,
   "metadata": {},
   "outputs": [
    {
     "name": "stdout",
     "output_type": "stream",
     "text": [
      "Requirement already satisfied: psycopg2 in c:\\users\\ksaville\\anaconda3\\lib\\site-packages (2.8.6)\n"
     ]
    }
   ],
   "source": [
    "import pandas as pd\n",
    "import numpy as np\n",
    "from sqlalchemy import create_engine\n",
    "!pip install psycopg2"
   ]
  },
  {
   "cell_type": "code",
   "execution_count": null,
   "metadata": {},
   "outputs": [],
   "source": [
    "#store crime json data into DataFram\n",
    "\n",
    "crime_df = pd.read_json(\"data/cpd-incidents.json\")\n",
    "#crime_df.head()\n",
    "crime_df.head()"
   ]
  },
  {
   "cell_type": "code",
   "execution_count": null,
   "metadata": {},
   "outputs": [],
   "source": [
    "\n",
    "\n",
    "crime_df = crime_df[[\"id\",\"year\",\"crimeday\", \"crime_type\", \"lat\", \"lon\"]]\n",
    "crime_df.head()"
   ]
  },
  {
   "cell_type": "code",
   "execution_count": null,
   "metadata": {},
   "outputs": [],
   "source": [
    "#drop na values \n",
    "crime_df = crime_df.dropna()\n",
    "#crime_df.info()\n",
    "#convert year from float to int.\n",
    "crime_df['year'] = crime_df['year'].apply(np.int64)\n",
    "crime_df.info()\n",
    "crime_df.head()"
   ]
  },
  {
   "cell_type": "code",
   "execution_count": null,
   "metadata": {},
   "outputs": [],
   "source": [
    "#create database connection\n",
    "username = 'postgres'\n",
    "password = '.'\n",
    "#removed password for privacy purposes\n",
    "host = '127.0.0.1'\n",
    "port = '5432'\n",
    "database = 'crime_incidents'\n",
    "\n",
    "db_url = 'postgresql://{}:{}@{}:{}/{}'.format(username, password, host, port, database)\n",
    "\n",
    "engine = create_engine(db_url)\n",
    "conn = engine.connect()\n",
    "\n",
    "engine.table_names()\n",
    "\n",
    "#use pandas to load CSV converted DataFrame into database\n",
    "crime_df.to_sql(name='crimes', con=engine, if_exists='append', index=False)\n",
    "\n",
    "#read in streetlights json data.  Get rid of unwanted rows.  Convert lat_lon json object to columns."
   ]
  },
  {
   "cell_type": "code",
   "execution_count": null,
   "metadata": {},
   "outputs": [],
   "source": [
    "lights_df = pd.read_json(\"data/streetlights.json\")\n",
    "#lights_df.head()\n",
    "lights_df = lights_df[[\"facilityid\", \"geo_point_2d\", \"address\", \"areaname\"]]\n",
    "\n",
    "lights_df = lights_df.rename(columns = {\"geo_point_2d\" : \"lat_lon\"})\n",
    "lights_df.head()\n",
    "\n",
    "\n",
    "# Unpack lat_lon cloumn.  ie convert dict tp series, then concatenat to df.  dropping oringinal lat_lon column.\n",
    "lights_df = pd.concat([lights_df.drop(['lat_lon'], axis=1), lights_df['lat_lon'].apply(pd.Series)], axis=1)\n",
    "lights_df.head()"
   ]
  },
  {
   "cell_type": "code",
   "execution_count": null,
   "metadata": {},
   "outputs": [],
   "source": [
    "lights_df.columns"
   ]
  },
  {
   "cell_type": "code",
   "execution_count": null,
   "metadata": {},
   "outputs": [],
   "source": [
    "lights_df.head()"
   ]
  },
  {
   "cell_type": "code",
   "execution_count": null,
   "metadata": {},
   "outputs": [],
   "source": [
    "#create database connection\n",
    "username = 'postgres'\n",
    "password = 'AlbionBio1'\n",
    "#removed password for privacy purposes\n",
    "host = '127.0.0.1'\n",
    "port = '5432'\n",
    "database = 'crime_incidents'\n",
    "\n",
    "db_url = 'postgresql://{}:{}@{}:{}/{}'.format(username, password, host, port, database)\n",
    "\n",
    "engine = create_engine(db_url)\n",
    "conn = engine.connect()\n",
    "\n",
    "engine.table_names()\n",
    "\n",
    "#use pandas to load CSV converted DataFrame into database\n",
    "lights_df.to_sql(name='streetlights', con=engine, if_exists='append', index=False)\n",
    "\n",
    "#read in streetlights json data.  Get rid of unwanted rows.  Convert lat_lon json object to columns."
   ]
  },
  {
   "cell_type": "code",
   "execution_count": 6,
   "metadata": {},
   "outputs": [],
   "source": [
    "import sqlite3 as sql\n",
    "import pandas as pd\n",
    "import matplotlib.pyplot as plt\n",
    "\n",
    "from sqlalchemy import create_engine\n",
    "\n",
    "engine = create_engine('sqlite:///crimes.sqlite', echo=True)\n",
    "sqlite_connection = engine.connect()"
   ]
  },
  {
   "cell_type": "code",
   "execution_count": null,
   "metadata": {},
   "outputs": [],
   "source": []
  }
 ],
 "metadata": {
  "kernelspec": {
   "display_name": "Python 3",
   "language": "python",
   "name": "python3"
  },
  "language_info": {
   "codemirror_mode": {
    "name": "ipython",
    "version": 3
   },
   "file_extension": ".py",
   "mimetype": "text/x-python",
   "name": "python",
   "nbconvert_exporter": "python",
   "pygments_lexer": "ipython3",
   "version": "3.8.3"
  }
 },
 "nbformat": 4,
 "nbformat_minor": 4
}
